{
 "cells": [
  {
   "cell_type": "markdown",
   "metadata": {
    "collapsed": true,
    "deletable": true,
    "editable": true
   },
   "source": [
    "# Image Classification\n",
    "In this project, you'll classify images from the [CIFAR-10 dataset](https://www.cs.toronto.edu/~kriz/cifar.html).  The dataset consists of airplanes, dogs, cats, and other objects. You'll preprocess the images, then train a convolutional neural network on all the samples. The images need to be normalized and the labels need to be one-hot encoded.  You'll get to apply what you learned and build a convolutional, max pooling, dropout, and fully connected layers.  At the end, you'll get to see your neural network's predictions on the sample images.\n",
    "## Get the Data\n",
    "Run the following cell to download the [CIFAR-10 dataset for python](https://www.cs.toronto.edu/~kriz/cifar-10-python.tar.gz)."
   ]
  },
  {
   "cell_type": "code",
   "execution_count": 1,
   "metadata": {
    "collapsed": false,
    "deletable": true,
    "editable": true
   },
   "outputs": [
    {
     "name": "stderr",
     "output_type": "stream",
     "text": [
      "CIFAR-10 Dataset: 171MB [00:32, 5.25MB/s]                              \n"
     ]
    },
    {
     "name": "stdout",
     "output_type": "stream",
     "text": [
      "All files found!\n"
     ]
    }
   ],
   "source": [
    "\"\"\"\n",
    "DON'T MODIFY ANYTHING IN THIS CELL THAT IS BELOW THIS LINE\n",
    "\"\"\"\n",
    "from urllib.request import urlretrieve\n",
    "from os.path import isfile, isdir\n",
    "from tqdm import tqdm\n",
    "import problem_unittests as tests\n",
    "import tarfile\n",
    "\n",
    "cifar10_dataset_folder_path = 'cifar-10-batches-py'\n",
    "\n",
    "class DLProgress(tqdm):\n",
    "    last_block = 0\n",
    "\n",
    "    def hook(self, block_num=1, block_size=1, total_size=None):\n",
    "        self.total = total_size\n",
    "        self.update((block_num - self.last_block) * block_size)\n",
    "        self.last_block = block_num\n",
    "\n",
    "if not isfile('cifar-10-python.tar.gz'):\n",
    "    with DLProgress(unit='B', unit_scale=True, miniters=1, desc='CIFAR-10 Dataset') as pbar:\n",
    "        urlretrieve(\n",
    "            'https://www.cs.toronto.edu/~kriz/cifar-10-python.tar.gz',\n",
    "            'cifar-10-python.tar.gz',\n",
    "            pbar.hook)\n",
    "\n",
    "if not isdir(cifar10_dataset_folder_path):\n",
    "    with tarfile.open('cifar-10-python.tar.gz') as tar:\n",
    "        tar.extractall()\n",
    "        tar.close()\n",
    "\n",
    "\n",
    "tests.test_folder_path(cifar10_dataset_folder_path)"
   ]
  },
  {
   "cell_type": "markdown",
   "metadata": {
    "deletable": true,
    "editable": true
   },
   "source": [
    "## Explore the Data\n",
    "The dataset is broken into batches to prevent your machine from running out of memory.  The CIFAR-10 dataset consists of 5 batches, named `data_batch_1`, `data_batch_2`, etc.. Each batch contains the labels and images that are one of the following:\n",
    "* airplane\n",
    "* automobile\n",
    "* bird\n",
    "* cat\n",
    "* deer\n",
    "* dog\n",
    "* frog\n",
    "* horse\n",
    "* ship\n",
    "* truck\n",
    "\n",
    "Understanding a dataset is part of making predictions on the data.  Play around with the code cell below by changing the `batch_id` and `sample_id`. The `batch_id` is the id for a batch (1-5). The `sample_id` is the id for a image and label pair in the batch.\n",
    "\n",
    "Ask yourself \"What are all possible labels?\", \"What is the range of values for the image data?\", \"Are the labels in order or random?\".  Answers to questions like these will help you preprocess the data and end up with better predictions."
   ]
  },
  {
   "cell_type": "code",
   "execution_count": 2,
   "metadata": {
    "collapsed": false,
    "deletable": true,
    "editable": true
   },
   "outputs": [
    {
     "name": "stdout",
     "output_type": "stream",
     "text": [
      "\n",
      "Stats of batch 1:\n",
      "Samples: 10000\n",
      "Label Counts: {0: 1005, 1: 974, 2: 1032, 3: 1016, 4: 999, 5: 937, 6: 1030, 7: 1001, 8: 1025, 9: 981}\n",
      "First 20 Labels: [6, 9, 9, 4, 1, 1, 2, 7, 8, 3, 4, 7, 7, 2, 9, 9, 9, 3, 2, 6]\n",
      "\n",
      "Example of Image 5:\n",
      "Image - Min Value: 0 Max Value: 252\n",
      "Image - Shape: (32, 32, 3)\n",
      "Label - Label Id: 1 Name: automobile\n"
     ]
    },
    {
     "data": {
      "image/png": "[encoded data removed]",
      "text/plain": [
       "<matplotlib.figure.Figure at 0x7feafd7bb630>"
      ]
     },
     "metadata": {
      "image/png": {
       "height": 250,
       "width": 253
      }
     },
     "output_type": "display_data"
    }
   ],
   "source": [
    "%matplotlib inline\n",
    "%config InlineBackend.figure_format = 'retina'\n",
    "\n",
    "import helper\n",
    "import numpy as np\n",
    "\n",
    "# Explore the dataset\n",
    "batch_id = 1\n",
    "sample_id = 5\n",
    "helper.display_stats(cifar10_dataset_folder_path, batch_id, sample_id)"
   ]
  },
  {
   "cell_type": "markdown",
   "metadata": {
    "deletable": true,
    "editable": true
   },
   "source": [
    "## Implement Preprocess Functions\n",
    "### Normalize\n",
    "In the cell below, implement the `normalize` function to take in image data, `x`, and return it as a normalized Numpy array. The values should be in the range of 0 to 1, inclusive.  The return object should be the same shape as `x`."
   ]
  },
  {
   "cell_type": "code",
   "execution_count": 3,
   "metadata": {
    "collapsed": false,
    "deletable": true,
    "editable": true
   },
   "outputs": [
    {
     "name": "stdout",
     "output_type": "stream",
     "text": [
      "Tests Passed\n"
     ]
    }
   ],
   "source": [
    "def normalize(x):\n",
    "    \"\"\"\n",
    "    Normalize a list of sample image data in the range of 0 to 1\n",
    "    : x: List of image data.  The image shape is (32, 32, 3)\n",
    "    : return: Numpy array of normalize data\n",
    "    \"\"\"\n",
    "    # TODO: Implement Function\n",
    "    return x/255\n",
    "\n",
    "\n",
    "\"\"\"\n",
    "DON'T MODIFY ANYTHING IN THIS CELL THAT IS BELOW THIS LINE\n",
    "\"\"\"\n",
    "tests.test_normalize(normalize)"
   ]
  },
  {
   "cell_type": "markdown",
   "metadata": {
    "deletable": true,
    "editable": true
   },
   "source": [
    "### One-hot encode\n",
    "Just like the previous code cell, you'll be implementing a function for preprocessing.  This time, you'll implement the `one_hot_encode` function. The input, `x`, are a list of labels.  Implement the function to return the list of labels as One-Hot encoded Numpy array.  The possible values for labels are 0 to 9. The one-hot encoding function should return the same encoding for each value between each call to `one_hot_encode`.  Make sure to save the map of encodings outside the function.\n",
    "\n",
    "Hint: Don't reinvent the wheel."
   ]
  },
  {
   "cell_type": "code",
   "execution_count": 4,
   "metadata": {
    "collapsed": false,
    "deletable": true,
    "editable": true
   },
   "outputs": [
    {
     "name": "stdout",
     "output_type": "stream",
     "text": [
      "Tests Passed\n"
     ]
    }
   ],
   "source": [
    "def one_hot_encode(x):\n",
    "    \"\"\"\n",
    "    One hot encode a list of sample labels. Return a one-hot encoded vector for each label.\n",
    "    : x: List of sample Labels\n",
    "    : return: Numpy array of one-hot encoded labels\n",
    "    \"\"\"\n",
    "    # TODO: Implement Function\n",
    "    return np.eye(10)[x]\n",
    "\n",
    "\n",
    "\"\"\"\n",
    "DON'T MODIFY ANYTHING IN THIS CELL THAT IS BELOW THIS LINE\n",
    "\"\"\"\n",
    "tests.test_one_hot_encode(one_hot_encode)"
   ]
  },
  {
   "cell_type": "markdown",
   "metadata": {
    "deletable": true,
    "editable": true
   },
   "source": [
    "### Randomize Data\n",
    "As you saw from exploring the data above, the order of the samples are randomized.  It doesn't hurt to randomize it again, but you don't need to for this dataset."
   ]
  },
  {
   "cell_type": "markdown",
   "metadata": {
    "deletable": true,
    "editable": true
   },
   "source": [
    "## Preprocess all the data and save it\n",
    "Running the code cell below will preprocess all the CIFAR-10 data and save it to file. The code below also uses 10% of the training data for validation."
   ]
  },
  {
   "cell_type": "code",
   "execution_count": 5,
   "metadata": {
    "collapsed": false,
    "deletable": true,
    "editable": true
   },
   "outputs": [],
   "source": [
    "\"\"\"\n",
    "DON'T MODIFY ANYTHING IN THIS CELL\n",
    "\"\"\"\n",
    "# Preprocess Training, Validation, and Testing Data\n",
    "helper.preprocess_and_save_data(cifar10_dataset_folder_path, normalize, one_hot_encode)"
   ]
  },
  {
   "cell_type": "markdown",
   "metadata": {
    "deletable": true,
    "editable": true
   },
   "source": [
    "# Check Point\n",
    "This is your first checkpoint.  If you ever decide to come back to this notebook or have to restart the notebook, you can start from here.  The preprocessed data has been saved to disk."
   ]
  },
  {
   "cell_type": "code",
   "execution_count": 1,
   "metadata": {
    "collapsed": true,
    "deletable": true,
    "editable": true
   },
   "outputs": [],
   "source": [
    "\"\"\"\n",
    "DON'T MODIFY ANYTHING IN THIS CELL\n",
    "\"\"\"\n",
    "import pickle\n",
    "import problem_unittests as tests\n",
    "import helper\n",
    "\n",
    "# Load the Preprocessed Validation data\n",
    "valid_features, valid_labels = pickle.load(open('preprocess_validation.p', mode='rb'))"
   ]
  },
  {
   "cell_type": "markdown",
   "metadata": {
    "deletable": true,
    "editable": true
   },
   "source": [
    "## Build the network\n",
    "For the neural network, you'll build each layer into a function.  Most of the code you've seen has been outside of functions. To test your code more thoroughly, we require that you put each layer in a function.  This allows us to give you better feedback and test for simple mistakes using our unittests before you submit your project.\n",
    "\n",
    ">**Note:** If you're finding it hard to dedicate enough time for this course each week, we've provided a small shortcut to this part of the project. In the next couple of problems, you'll have the option to use classes from the [TensorFlow Layers](https://www.tensorflow.org/api_docs/python/tf/layers) or [TensorFlow Layers (contrib)](https://www.tensorflow.org/api_guides/python/contrib.layers) packages to build each layer, except the layers you build in the \"Convolutional and Max Pooling Layer\" section.  TF Layers is similar to Keras's and TFLearn's abstraction to layers, so it's easy to pickup.\n",
    "\n",
    ">However, if you would like to get the most out of this course, try to solve all the problems _without_ using anything from the TF Layers packages. You **can** still use classes from other packages that happen to have the same name as ones you find in TF Layers! For example, instead of using the TF Layers version of the `conv2d` class, [tf.layers.conv2d](https://www.tensorflow.org/api_docs/python/tf/layers/conv2d), you would want to use the TF Neural Network version of `conv2d`, [tf.nn.conv2d](https://www.tensorflow.org/api_docs/python/tf/nn/conv2d). \n",
    "\n",
    "Let's begin!\n",
    "\n",
    "### Input\n",
    "The neural network needs to read the image data, one-hot encoded labels, and dropout keep probability. Implement the following functions\n",
    "* Implement `neural_net_image_input`\n",
    " * Return a [TF Placeholder](https://www.tensorflow.org/api_docs/python/tf/placeholder)\n",
    " * Set the shape using `image_shape` with batch size set to `None`.\n",
    " * Name the TensorFlow placeholder \"x\" using the TensorFlow `name` parameter in the [TF Placeholder](https://www.tensorflow.org/api_docs/python/tf/placeholder).\n",
    "* Implement `neural_net_label_input`\n",
    " * Return a [TF Placeholder](https://www.tensorflow.org/api_docs/python/tf/placeholder)\n",
    " * Set the shape using `n_classes` with batch size set to `None`.\n",
    " * Name the TensorFlow placeholder \"y\" using the TensorFlow `name` parameter in the [TF Placeholder](https://www.tensorflow.org/api_docs/python/tf/placeholder).\n",
    "* Implement `neural_net_keep_prob_input`\n",
    " * Return a [TF Placeholder](https://www.tensorflow.org/api_docs/python/tf/placeholder) for dropout keep probability.\n",
    " * Name the TensorFlow placeholder \"keep_prob\" using the TensorFlow `name` parameter in the [TF Placeholder](https://www.tensorflow.org/api_docs/python/tf/placeholder).\n",
    "\n",
    "These names will be used at the end of the project to load your saved model.\n",
    "\n",
    "Note: `None` for shapes in TensorFlow allow for a dynamic size."
   ]
  },
  {
   "cell_type": "code",
   "execution_count": 2,
   "metadata": {
    "collapsed": false,
    "deletable": true,
    "editable": true
   },
   "outputs": [
    {
     "name": "stdout",
     "output_type": "stream",
     "text": [
      "Image Input Tests Passed.\n",
      "Label Input Tests Passed.\n",
      "Keep Prob Tests Passed.\n"
     ]
    }
   ],
   "source": [
    "import tensorflow as tf\n",
    "\n",
    "def neural_net_image_input(image_shape):\n",
    "    \"\"\"\n",
    "    Return a Tensor for a batch of image input\n",
    "    : image_shape: Shape of the images\n",
    "    : return: Tensor for image input.\n",
    "    \"\"\"\n",
    "    # TODO: Implement Function\n",
    "    x = tf.placeholder(tf.float32, [None, image_shape[0],image_shape[1],image_shape[2]], name='x')\n",
    "    return x\n",
    "\n",
    "\n",
    "def neural_net_label_input(n_classes):\n",
    "    \"\"\"\n",
    "    Return a Tensor for a batch of label input\n",
    "    : n_classes: Number of classes\n",
    "    : return: Tensor for label input.\n",
    "    \"\"\"\n",
    "    # TODO: Implement Function\n",
    "    y = tf.placeholder(tf.float32, [None, n_classes], name='y')\n",
    "    return y\n",
    "\n",
    "\n",
    "def neural_net_keep_prob_input():\n",
    "    \"\"\"\n",
    "    Return a Tensor for keep probability\n",
    "    : return: Tensor for keep probability.\n",
    "    \"\"\"\n",
    "    # TODO: Implement Function\n",
    "    keep_prob = tf.placeholder(tf.float32, name='keep_prob')\n",
    "    return keep_prob\n",
    "\n",
    "\n",
    "\"\"\"\n",
    "DON'T MODIFY ANYTHING IN THIS CELL THAT IS BELOW THIS LINE\n",
    "\"\"\"\n",
    "tf.reset_default_graph()\n",
    "tests.test_nn_image_inputs(neural_net_image_input)\n",
    "tests.test_nn_label_inputs(neural_net_label_input)\n",
    "tests.test_nn_keep_prob_inputs(neural_net_keep_prob_input)"
   ]
  },
  {
   "cell_type": "markdown",
   "metadata": {
    "deletable": true,
    "editable": true
   },
   "source": [
    "### Convolution and Max Pooling Layer\n",
    "Convolution layers have a lot of success with images. For this code cell, you should implement the function `conv2d_maxpool` to apply convolution then max pooling:\n",
    "* Create the weight and bias using `conv_ksize`, `conv_num_outputs` and the shape of `x_tensor`.\n",
    "* Apply a convolution to `x_tensor` using weight and `conv_strides`.\n",
    " * We recommend you use same padding, but you're welcome to use any padding.\n",
    "* Add bias\n",
    "* Add a nonlinear activation to the convolution.\n",
    "* Apply Max Pooling using `pool_ksize` and `pool_strides`.\n",
    " * We recommend you use same padding, but you're welcome to use any padding.\n",
    "\n",
    "**Note:** You **can't** use [TensorFlow Layers](https://www.tensorflow.org/api_docs/python/tf/layers) or [TensorFlow Layers (contrib)](https://www.tensorflow.org/api_guides/python/contrib.layers) for **this** layer, but you can still use TensorFlow's [Neural Network](https://www.tensorflow.org/api_docs/python/tf/nn) package. You may still use the shortcut option for all the **other** layers."
   ]
  },
  {
   "cell_type": "code",
   "execution_count": 3,
   "metadata": {
    "collapsed": false,
    "deletable": true,
    "editable": true
   },
   "outputs": [
    {
     "name": "stdout",
     "output_type": "stream",
     "text": [
      "Tests Passed\n"
     ]
    }
   ],
   "source": [
    "def conv2d_maxpool(x_tensor, conv_num_outputs, conv_ksize, conv_strides, pool_ksize, pool_strides):\n",
    "    \"\"\"\n",
    "    Apply convolution then max pooling to x_tensor\n",
    "    :param x_tensor: TensorFlow Tensor\n",
    "    :param conv_num_outputs: Number of outputs for the convolutional layer\n",
    "    :param conv_ksize: kernal size 2-D Tuple for the convolutional layer\n",
    "    :param conv_strides: Stride 2-D Tuple for convolution\n",
    "    :param pool_ksize: kernal size 2-D Tuple for pool\n",
    "    :param pool_strides: Stride 2-D Tuple for pool\n",
    "    : return: A tensor that represents convolution and max pooling of x_tensor\n",
    "    \"\"\"\n",
    "    # TODO: Implement Function\n",
    "    F_weight = tf.Variable(tf.truncated_normal([conv_ksize[0],conv_ksize[1],int(x_tensor.get_shape()[3]),conv_num_outputs], \\\n",
    "                                               stddev=0.1))\n",
    "    F_bias = tf.Variable(tf.random_normal([conv_num_outputs]))\n",
    "    \n",
    "    conv_layer = tf.nn.conv2d(x_tensor, F_weight, strides=[1,conv_strides[0],conv_strides[1],1], padding='SAME')\n",
    "    conv_layer = tf.nn.bias_add(conv_layer, F_bias)\n",
    "    \n",
    "    conv_layer = tf.nn.relu(conv_layer)\n",
    "    \n",
    "    conv_layer = tf.nn.max_pool(conv_layer, ksize=[1,pool_ksize[0],pool_ksize[1],1], \\\n",
    "                                 strides=[1,pool_strides[0],pool_strides[1],1], padding='SAME')\n",
    "    return conv_layer \n",
    "\n",
    "\n",
    "\"\"\"\n",
    "DON'T MODIFY ANYTHING IN THIS CELL THAT IS BELOW THIS LINE\n",
    "\"\"\"\n",
    "tests.test_con_pool(conv2d_maxpool)"
   ]
  },
  {
   "cell_type": "markdown",
   "metadata": {
    "deletable": true,
    "editable": true
   },
   "source": [
    "### Flatten Layer\n",
    "Implement the `flatten` function to change the dimension of `x_tensor` from a 4-D tensor to a 2-D tensor.  The output should be the shape (*Batch Size*, *Flattened Image Size*). Shortcut option: you can use classes from the [TensorFlow Layers](https://www.tensorflow.org/api_docs/python/tf/layers) or [TensorFlow Layers (contrib)](https://www.tensorflow.org/api_guides/python/contrib.layers) packages for this layer. For more of a challenge, only use other TensorFlow packages."
   ]
  },
  {
   "cell_type": "code",
   "execution_count": 4,
   "metadata": {
    "collapsed": false,
    "deletable": true,
    "editable": true
   },
   "outputs": [
    {
     "name": "stdout",
     "output_type": "stream",
     "text": [
      "Tests Passed\n"
     ]
    }
   ],
   "source": [
    "def flatten(x_tensor):\n",
    "    \"\"\"\n",
    "    Flatten x_tensor to (Batch Size, Flattened Image Size)\n",
    "    : x_tensor: A tensor of size (Batch Size, ...), where ... are the image dimensions.\n",
    "    : return: A tensor of size (Batch Size, Flattened Image Size).\n",
    "    \"\"\"\n",
    "    # TODO: Implement Function\n",
    "    return tf.contrib.layers.flatten(x_tensor)\n",
    "\n",
    "\n",
    "\"\"\"\n",
    "DON'T MODIFY ANYTHING IN THIS CELL THAT IS BELOW THIS LINE\n",
    "\"\"\"\n",
    "tests.test_flatten(flatten)"
   ]
  },
  {
   "cell_type": "markdown",
   "metadata": {
    "deletable": true,
    "editable": true
   },
   "source": [
    "### Fully-Connected Layer\n",
    "Implement the `fully_conn` function to apply a fully connected layer to `x_tensor` with the shape (*Batch Size*, *num_outputs*). Shortcut option: you can use classes from the [TensorFlow Layers](https://www.tensorflow.org/api_docs/python/tf/layers) or [TensorFlow Layers (contrib)](https://www.tensorflow.org/api_guides/python/contrib.layers) packages for this layer. For more of a challenge, only use other TensorFlow packages."
   ]
  },
  {
   "cell_type": "code",
   "execution_count": 5,
   "metadata": {
    "collapsed": false,
    "deletable": true,
    "editable": true
   },
   "outputs": [
    {
     "name": "stdout",
     "output_type": "stream",
     "text": [
      "Tests Passed\n"
     ]
    }
   ],
   "source": [
    "def fully_conn(x_tensor, num_outputs):\n",
    "    \"\"\"\n",
    "    Apply a fully connected layer to x_tensor using weight and bias\n",
    "    : x_tensor: A 2-D tensor where the first dimension is batch size.\n",
    "    : num_outputs: The number of output that the new tensor should be.\n",
    "    : return: A 2-D tensor where the second dimension is num_outputs.\n",
    "    \"\"\"\n",
    "    # TODO: Implement Function\n",
    "    return tf.contrib.layers.fully_connected(x_tensor, num_outputs=num_outputs, activation_fn=tf.nn.relu)\n",
    "\n",
    "\n",
    "\"\"\"\n",
    "DON'T MODIFY ANYTHING IN THIS CELL THAT IS BELOW THIS LINE\n",
    "\"\"\"\n",
    "tests.test_fully_conn(fully_conn)"
   ]
  },
  {
   "cell_type": "markdown",
   "metadata": {
    "deletable": true,
    "editable": true
   },
   "source": [
    "### Output Layer\n",
    "Implement the `output` function to apply a fully connected layer to `x_tensor` with the shape (*Batch Size*, *num_outputs*). Shortcut option: you can use classes from the [TensorFlow Layers](https://www.tensorflow.org/api_docs/python/tf/layers) or [TensorFlow Layers (contrib)](https://www.tensorflow.org/api_guides/python/contrib.layers) packages for this layer. For more of a challenge, only use other TensorFlow packages.\n",
    "\n",
    "**Note:** Activation, softmax, or cross entropy should **not** be applied to this."
   ]
  },
  {
   "cell_type": "code",
   "execution_count": 6,
   "metadata": {
    "collapsed": false,
    "deletable": true,
    "editable": true
   },
   "outputs": [
    {
     "name": "stdout",
     "output_type": "stream",
     "text": [
      "Tests Passed\n"
     ]
    }
   ],
   "source": [
    "def output(x_tensor, num_outputs):\n",
    "    \"\"\"\n",
    "    Apply a output layer to x_tensor using weight and bias\n",
    "    : x_tensor: A 2-D tensor where the first dimension is batch size.\n",
    "    : num_outputs: The number of output that the new tensor should be.\n",
    "    : return: A 2-D tensor where the second dimension is num_outputs.\n",
    "    \"\"\"\n",
    "    # TODO: Implement Function\n",
    "    return tf.contrib.layers.fully_connected(x_tensor, num_outputs=num_outputs, activation_fn=None)\n",
    "\n",
    "\n",
    "\"\"\"\n",
    "DON'T MODIFY ANYTHING IN THIS CELL THAT IS BELOW THIS LINE\n",
    "\"\"\"\n",
    "tests.test_output(output)"
   ]
  },
  {
   "cell_type": "markdown",
   "metadata": {
    "deletable": true,
    "editable": true
   },
   "source": [
    "### Create Convolutional Model\n",
    "Implement the function `conv_net` to create a convolutional neural network model. The function takes in a batch of images, `x`, and outputs logits.  Use the layers you created above to create this model:\n",
    "\n",
    "* Apply 1, 2, or 3 Convolution and Max Pool layers\n",
    "* Apply a Flatten Layer\n",
    "* Apply 1, 2, or 3 Fully Connected Layers\n",
    "* Apply an Output Layer\n",
    "* Return the output\n",
    "* Apply [TensorFlow's Dropout](https://www.tensorflow.org/api_docs/python/tf/nn/dropout) to one or more layers in the model using `keep_prob`. "
   ]
  },
  {
   "cell_type": "code",
   "execution_count": 70,
   "metadata": {
    "collapsed": false,
    "deletable": true,
    "editable": true
   },
   "outputs": [
    {
     "name": "stdout",
     "output_type": "stream",
     "text": [
      "Neural Network Built!\n"
     ]
    }
   ],
   "source": [
    "def conv_net(x, keep_prob):\n",
    "    \"\"\"\n",
    "    Create a convolutional neural network model\n",
    "    : x: Placeholder tensor that holds image data.\n",
    "    : keep_prob: Placeholder tensor that hold dropout keep probability.\n",
    "    : return: Tensor that represents logits\n",
    "    \"\"\"\n",
    "    # TODO: Apply 1, 2, or 3 Convolution and Max Pool layers\n",
    "    #    Play around with different number of outputs, kernel size and stride\n",
    "    # Function Definition from Above:\n",
    "    #    conv2d_maxpool(x_tensor, conv_num_outputs, conv_ksize, conv_strides, pool_ksize, pool_strides)\n",
    "    \n",
    "    conv_maxpool = conv2d_maxpool(x, 64, (4,4), (1,1), (2,2), (2,2))\n",
    "    conv_maxpool = tf.nn.dropout(conv_maxpool, keep_prob)\n",
    "    conv_maxpool = conv2d_maxpool(conv_maxpool, 64, (4,4), (1,1), (2,2), (2,2))\n",
    "    \n",
    "    # TODO: Apply a Flatten Layer\n",
    "    # Function Definition from Above:\n",
    "    #   flatten(x_tensor)\n",
    "    \n",
    "    conv_flat = flatten(conv_maxpool)    \n",
    "    \n",
    "    # TODO: Apply 1, 2, or 3 Fully Connected Layers\n",
    "    #    Play around with different number of outputs\n",
    "    # Function Definition from Above:\n",
    "    #   fully_conn(x_tensor, num_outputs)\n",
    "    \n",
    "    conv_fc = fully_conn(conv_flat, 512)\n",
    "    conv_fc = tf.nn.dropout(conv_fc, keep_prob)\n",
    "    conv_fc = fully_conn(conv_fc, 128)\n",
    "        \n",
    "    # TODO: Apply an Output Layer\n",
    "    #    Set this to the number of classes\n",
    "    # Function Definition from Above:\n",
    "    #   output(x_tensor, num_outputs)\n",
    "    \n",
    "    conv_out = output(conv_fc, 10)\n",
    "    \n",
    "    # TODO: return output\n",
    "    return conv_out\n",
    "\n",
    "\n",
    "\"\"\"\n",
    "DON'T MODIFY ANYTHING IN THIS CELL THAT IS BELOW THIS LINE\n",
    "\"\"\"\n",
    "\n",
    "##############################\n",
    "## Build the Neural Network ##\n",
    "##############################\n",
    "\n",
    "# Remove previous weights, bias, inputs, etc..\n",
    "tf.reset_default_graph()\n",
    "\n",
    "# Inputs\n",
    "x = neural_net_image_input((32, 32, 3))\n",
    "y = neural_net_label_input(10)\n",
    "keep_prob = neural_net_keep_prob_input()\n",
    "\n",
    "# Model\n",
    "logits = conv_net(x, keep_prob)\n",
    "\n",
    "# Name logits Tensor, so that is can be loaded from disk after training\n",
    "logits = tf.identity(logits, name='logits')\n",
    "\n",
    "# Loss and Optimizer\n",
    "cost = tf.reduce_mean(tf.nn.softmax_cross_entropy_with_logits(logits=logits, labels=y))\n",
    "optimizer = tf.train.AdamOptimizer().minimize(cost)\n",
    "\n",
    "# Accuracy\n",
    "correct_pred = tf.equal(tf.argmax(logits, 1), tf.argmax(y, 1))\n",
    "accuracy = tf.reduce_mean(tf.cast(correct_pred, tf.float32), name='accuracy')\n",
    "\n",
    "tests.test_conv_net(conv_net)"
   ]
  },
  {
   "cell_type": "markdown",
   "metadata": {
    "deletable": true,
    "editable": true
   },
   "source": [
    "## Train the Neural Network\n",
    "### Single Optimization\n",
    "Implement the function `train_neural_network` to do a single optimization.  The optimization should use `optimizer` to optimize in `session` with a `feed_dict` of the following:\n",
    "* `x` for image input\n",
    "* `y` for labels\n",
    "* `keep_prob` for keep probability for dropout\n",
    "\n",
    "This function will be called for each batch, so `tf.global_variables_initializer()` has already been called.\n",
    "\n",
    "Note: Nothing needs to be returned. This function is only optimizing the neural network."
   ]
  },
  {
   "cell_type": "code",
   "execution_count": 71,
   "metadata": {
    "collapsed": false,
    "deletable": true,
    "editable": true
   },
   "outputs": [
    {
     "name": "stdout",
     "output_type": "stream",
     "text": [
      "Tests Passed\n"
     ]
    }
   ],
   "source": [
    "def train_neural_network(session, optimizer, keep_probability, feature_batch, label_batch):\n",
    "    \"\"\"\n",
    "    Optimize the session on a batch of images and labels\n",
    "    : session: Current TensorFlow session\n",
    "    : optimizer: TensorFlow optimizer function\n",
    "    : keep_probability: keep probability\n",
    "    : feature_batch: Batch of Numpy image data\n",
    "    : label_batch: Batch of Numpy label data\n",
    "    \"\"\"\n",
    "    # TODO: Implement Function\n",
    "    session.run(optimizer, feed_dict={x:feature_batch,y:label_batch,keep_prob:keep_probability})\n",
    "\n",
    "\"\"\"\n",
    "DON'T MODIFY ANYTHING IN THIS CELL THAT IS BELOW THIS LINE\n",
    "\"\"\"\n",
    "tests.test_train_nn(train_neural_network)"
   ]
  },
  {
   "cell_type": "markdown",
   "metadata": {
    "deletable": true,
    "editable": true
   },
   "source": [
    "### Show Stats\n",
    "Implement the function `print_stats` to print loss and validation accuracy.  Use the global variables `valid_features` and `valid_labels` to calculate validation accuracy.  Use a keep probability of `1.0` to calculate the loss and validation accuracy."
   ]
  },
  {
   "cell_type": "code",
   "execution_count": 46,
   "metadata": {
    "collapsed": false,
    "deletable": true,
    "editable": true
   },
   "outputs": [],
   "source": [
    "def print_stats(session, feature_batch, label_batch, cost, accuracy):\n",
    "    \"\"\"\n",
    "    Print information about loss and validation accuracy\n",
    "    : session: Current TensorFlow session\n",
    "    : feature_batch: Batch of Numpy image data\n",
    "    : label_batch: Batch of Numpy label data\n",
    "    : cost: TensorFlow cost function\n",
    "    : accuracy: TensorFlow accuracy function\n",
    "    \"\"\"\n",
    "    # TODO: Implement Function\n",
    "    loss = session.run(cost, feed_dict={x:feature_batch,y:label_batch,keep_prob:1.0})\n",
    "    val_accu = session.run(accuracy, feed_dict={x:valid_features,y:valid_labels,keep_prob:1.0})\n",
    "    print('Loss:{}'.format(loss), 'Validation accuracy: {}'.format(val_accu))"
   ]
  },
  {
   "cell_type": "markdown",
   "metadata": {
    "deletable": true,
    "editable": true
   },
   "source": [
    "### Hyperparameters\n",
    "Tune the following parameters:\n",
    "* Set `epochs` to the number of iterations until the network stops learning or start overfitting\n",
    "* Set `batch_size` to the highest number that your machine has memory for.  Most people set them to common sizes of memory:\n",
    " * 64\n",
    " * 128\n",
    " * 256\n",
    " * ...\n",
    "* Set `keep_probability` to the probability of keeping a node using dropout"
   ]
  },
  {
   "cell_type": "code",
   "execution_count": 75,
   "metadata": {
    "collapsed": true,
    "deletable": true,
    "editable": true
   },
   "outputs": [],
   "source": [
    "# TODO: Tune Parameters\n",
    "epochs = 30\n",
    "batch_size = 128\n",
    "keep_probability = 0.5"
   ]
  },
  {
   "cell_type": "markdown",
   "metadata": {
    "deletable": true,
    "editable": true
   },
   "source": [
    "### Train on a Single CIFAR-10 Batch\n",
    "Instead of training the neural network on all the CIFAR-10 batches of data, let's use a single batch. This should save time while you iterate on the model to get a better accuracy.  Once the final validation accuracy is 50% or greater, run the model on all the data in the next section."
   ]
  },
  {
   "cell_type": "code",
   "execution_count": 72,
   "metadata": {
    "collapsed": false,
    "deletable": true,
    "editable": true
   },
   "outputs": [
    {
     "name": "stdout",
     "output_type": "stream",
     "text": [
      "Checking the Training on a Single Batch...\n",
      "Epoch  1, CIFAR-10 Batch 1:  Loss:2.3018956184387207 Validation accuracy: 0.07999999821186066\n",
      "Epoch  2, CIFAR-10 Batch 1:  Loss:2.3010754585266113 Validation accuracy: 0.10119999945163727\n",
      "Epoch  3, CIFAR-10 Batch 1:  Loss:2.248966932296753 Validation accuracy: 0.21939998865127563\n",
      "Epoch  4, CIFAR-10 Batch 1:  Loss:2.216165781021118 Validation accuracy: 0.24859997630119324\n",
      "Epoch  5, CIFAR-10 Batch 1:  Loss:2.1841580867767334 Validation accuracy: 0.30159997940063477\n",
      "Epoch  6, CIFAR-10 Batch 1:  Loss:2.120229482650757 Validation accuracy: 0.3211999833583832\n",
      "Epoch  7, CIFAR-10 Batch 1:  Loss:1.9903484582901 Validation accuracy: 0.35019996762275696\n",
      "Epoch  8, CIFAR-10 Batch 1:  Loss:1.8917665481567383 Validation accuracy: 0.3749999701976776\n",
      "Epoch  9, CIFAR-10 Batch 1:  Loss:1.8101310729980469 Validation accuracy: 0.38839995861053467\n",
      "Epoch 10, CIFAR-10 Batch 1:  Loss:1.701282262802124 Validation accuracy: 0.39979997277259827\n",
      "Epoch 11, CIFAR-10 Batch 1:  Loss:1.698561429977417 Validation accuracy: 0.41739997267723083\n",
      "Epoch 12, CIFAR-10 Batch 1:  Loss:1.6581799983978271 Validation accuracy: 0.4225999414920807\n",
      "Epoch 13, CIFAR-10 Batch 1:  Loss:1.5681686401367188 Validation accuracy: 0.4269999861717224\n",
      "Epoch 14, CIFAR-10 Batch 1:  Loss:1.4848740100860596 Validation accuracy: 0.44519996643066406\n",
      "Epoch 15, CIFAR-10 Batch 1:  Loss:1.392982006072998 Validation accuracy: 0.4675999879837036\n",
      "Epoch 16, CIFAR-10 Batch 1:  Loss:1.3572826385498047 Validation accuracy: 0.462399959564209\n",
      "Epoch 17, CIFAR-10 Batch 1:  Loss:1.2878398895263672 Validation accuracy: 0.48079994320869446\n",
      "Epoch 18, CIFAR-10 Batch 1:  Loss:1.2074122428894043 Validation accuracy: 0.4681999385356903\n",
      "Epoch 19, CIFAR-10 Batch 1:  Loss:1.1112735271453857 Validation accuracy: 0.47179993987083435\n",
      "Epoch 20, CIFAR-10 Batch 1:  Loss:1.0311577320098877 Validation accuracy: 0.49219995737075806\n",
      "Epoch 21, CIFAR-10 Batch 1:  Loss:0.9551813006401062 Validation accuracy: 0.5003999471664429\n",
      "Epoch 22, CIFAR-10 Batch 1:  Loss:0.8909531831741333 Validation accuracy: 0.49639996886253357\n",
      "Epoch 23, CIFAR-10 Batch 1:  Loss:0.8163266777992249 Validation accuracy: 0.5099999308586121\n",
      "Epoch 24, CIFAR-10 Batch 1:  Loss:0.8383609056472778 Validation accuracy: 0.5033999681472778\n",
      "Epoch 25, CIFAR-10 Batch 1:  Loss:0.7666811943054199 Validation accuracy: 0.5139999389648438\n",
      "Epoch 26, CIFAR-10 Batch 1:  Loss:0.6229125261306763 Validation accuracy: 0.5231999158859253\n",
      "Epoch 27, CIFAR-10 Batch 1:  Loss:0.6064127683639526 Validation accuracy: 0.5181999206542969\n",
      "Epoch 28, CIFAR-10 Batch 1:  Loss:0.580673336982727 Validation accuracy: 0.5223999619483948\n",
      "Epoch 29, CIFAR-10 Batch 1:  Loss:0.48943668603897095 Validation accuracy: 0.5265999436378479\n",
      "Epoch 30, CIFAR-10 Batch 1:  Loss:0.49352002143859863 Validation accuracy: 0.5275999903678894\n",
      "Epoch 31, CIFAR-10 Batch 1:  Loss:0.3577459454536438 Validation accuracy: 0.5343999266624451\n",
      "Epoch 32, CIFAR-10 Batch 1:  Loss:0.3348178565502167 Validation accuracy: 0.5311999320983887\n",
      "Epoch 33, CIFAR-10 Batch 1:  Loss:0.2959267199039459 Validation accuracy: 0.5311999320983887\n",
      "Epoch 34, CIFAR-10 Batch 1:  Loss:0.2760280966758728 Validation accuracy: 0.5389999151229858\n",
      "Epoch 35, CIFAR-10 Batch 1:  Loss:0.2055583894252777 Validation accuracy: 0.535599946975708\n",
      "Epoch 36, CIFAR-10 Batch 1:  Loss:0.16925346851348877 Validation accuracy: 0.5381999611854553\n",
      "Epoch 37, CIFAR-10 Batch 1:  Loss:0.22847360372543335 Validation accuracy: 0.5391998887062073\n",
      "Epoch 38, CIFAR-10 Batch 1:  Loss:0.1398869752883911 Validation accuracy: 0.5389999747276306\n",
      "Epoch 39, CIFAR-10 Batch 1:  Loss:0.1427483856678009 Validation accuracy: 0.5431999564170837\n",
      "Epoch 40, CIFAR-10 Batch 1:  Loss:0.12211344391107559 Validation accuracy: 0.533799946308136\n",
      "Epoch 41, CIFAR-10 Batch 1:  Loss:0.08541856706142426 Validation accuracy: 0.5499999523162842\n",
      "Epoch 42, CIFAR-10 Batch 1:  Loss:0.08493711054325104 Validation accuracy: 0.5425999164581299\n",
      "Epoch 43, CIFAR-10 Batch 1:  Loss:0.05517536401748657 Validation accuracy: 0.5375999212265015\n",
      "Epoch 44, CIFAR-10 Batch 1:  Loss:0.07896071672439575 Validation accuracy: 0.5395999550819397\n",
      "Epoch 45, CIFAR-10 Batch 1:  Loss:0.05161045119166374 Validation accuracy: 0.5427999496459961\n",
      "Epoch 46, CIFAR-10 Batch 1:  Loss:0.05734092369675636 Validation accuracy: 0.5495999455451965\n",
      "Epoch 47, CIFAR-10 Batch 1:  Loss:0.035316936671733856 Validation accuracy: 0.5409999489784241\n",
      "Epoch 48, CIFAR-10 Batch 1:  Loss:0.0453135222196579 Validation accuracy: 0.5415999293327332\n",
      "Epoch 49, CIFAR-10 Batch 1:  Loss:0.04000740498304367 Validation accuracy: 0.5407999753952026\n",
      "Epoch 50, CIFAR-10 Batch 1:  Loss:0.04338940978050232 Validation accuracy: 0.5383999347686768\n"
     ]
    }
   ],
   "source": [
    "\"\"\"\n",
    "DON'T MODIFY ANYTHING IN THIS CELL\n",
    "\"\"\"\n",
    "print('Checking the Training on a Single Batch...')\n",
    "with tf.Session() as sess:\n",
    "    # Initializing the variables\n",
    "    sess.run(tf.global_variables_initializer())\n",
    "    \n",
    "    # Training cycle\n",
    "    for epoch in range(epochs):\n",
    "        batch_i = 1\n",
    "        for batch_features, batch_labels in helper.load_preprocess_training_batch(batch_i, batch_size):\n",
    "            train_neural_network(sess, optimizer, keep_probability, batch_features, batch_labels)\n",
    "        print('Epoch {:>2}, CIFAR-10 Batch {}:  '.format(epoch + 1, batch_i), end='')\n",
    "        print_stats(sess, batch_features, batch_labels, cost, accuracy)"
   ]
  },
  {
   "cell_type": "markdown",
   "metadata": {
    "deletable": true,
    "editable": true
   },
   "source": [
    "### Fully Train the Model\n",
    "Now that you got a good accuracy with a single CIFAR-10 batch, try it with all five batches."
   ]
  },
  {
   "cell_type": "code",
   "execution_count": 76,
   "metadata": {
    "collapsed": false,
    "deletable": true,
    "editable": true
   },
   "outputs": [
    {
     "name": "stdout",
     "output_type": "stream",
     "text": [
      "Training...\n",
      "Epoch  1, CIFAR-10 Batch 1:  Loss:2.3027772903442383 Validation accuracy: 0.10839999467134476\n",
      "Epoch  1, CIFAR-10 Batch 2:  Loss:2.253702163696289 Validation accuracy: 0.22100001573562622\n",
      "Epoch  1, CIFAR-10 Batch 3:  Loss:2.108678102493286 Validation accuracy: 0.2345999777317047\n",
      "Epoch  1, CIFAR-10 Batch 4:  Loss:2.034984588623047 Validation accuracy: 0.2587999999523163\n",
      "Epoch  1, CIFAR-10 Batch 5:  Loss:2.1135952472686768 Validation accuracy: 0.2951999604701996\n",
      "Epoch  2, CIFAR-10 Batch 1:  Loss:2.210158109664917 Validation accuracy: 0.3009999990463257\n",
      "Epoch  2, CIFAR-10 Batch 2:  Loss:2.100755214691162 Validation accuracy: 0.30059999227523804\n",
      "Epoch  2, CIFAR-10 Batch 3:  Loss:1.755723476409912 Validation accuracy: 0.35120001435279846\n",
      "Epoch  2, CIFAR-10 Batch 4:  Loss:1.869997262954712 Validation accuracy: 0.3567999601364136\n",
      "Epoch  2, CIFAR-10 Batch 5:  Loss:1.8357298374176025 Validation accuracy: 0.3895999789237976\n",
      "Epoch  3, CIFAR-10 Batch 1:  Loss:2.0168614387512207 Validation accuracy: 0.3877999782562256\n",
      "Epoch  3, CIFAR-10 Batch 2:  Loss:1.8422341346740723 Validation accuracy: 0.4123999774456024\n",
      "Epoch  3, CIFAR-10 Batch 3:  Loss:1.4421064853668213 Validation accuracy: 0.4325999617576599\n",
      "Epoch  3, CIFAR-10 Batch 4:  Loss:1.6456584930419922 Validation accuracy: 0.43379998207092285\n",
      "Epoch  3, CIFAR-10 Batch 5:  Loss:1.6119240522384644 Validation accuracy: 0.45399993658065796\n",
      "Epoch  4, CIFAR-10 Batch 1:  Loss:1.8465313911437988 Validation accuracy: 0.4521999955177307\n",
      "Epoch  4, CIFAR-10 Batch 2:  Loss:1.7085245847702026 Validation accuracy: 0.45899999141693115\n",
      "Epoch  4, CIFAR-10 Batch 3:  Loss:1.2402622699737549 Validation accuracy: 0.4689999520778656\n",
      "Epoch  4, CIFAR-10 Batch 4:  Loss:1.4737956523895264 Validation accuracy: 0.4742000102996826\n",
      "Epoch  4, CIFAR-10 Batch 5:  Loss:1.4812407493591309 Validation accuracy: 0.4837999939918518\n",
      "Epoch  5, CIFAR-10 Batch 1:  Loss:1.686394453048706 Validation accuracy: 0.48579996824264526\n",
      "Epoch  5, CIFAR-10 Batch 2:  Loss:1.4835056066513062 Validation accuracy: 0.478799968957901\n",
      "Epoch  5, CIFAR-10 Batch 3:  Loss:1.1447312831878662 Validation accuracy: 0.4965999722480774\n",
      "Epoch  5, CIFAR-10 Batch 4:  Loss:1.2943999767303467 Validation accuracy: 0.49939996004104614\n",
      "Epoch  5, CIFAR-10 Batch 5:  Loss:1.4047043323516846 Validation accuracy: 0.5065999627113342\n",
      "Epoch  6, CIFAR-10 Batch 1:  Loss:1.5525602102279663 Validation accuracy: 0.5073999762535095\n",
      "Epoch  6, CIFAR-10 Batch 2:  Loss:1.3785114288330078 Validation accuracy: 0.5051999688148499\n",
      "Epoch  6, CIFAR-10 Batch 3:  Loss:1.088732123374939 Validation accuracy: 0.5053999423980713\n",
      "Epoch  6, CIFAR-10 Batch 4:  Loss:1.2229042053222656 Validation accuracy: 0.5179999470710754\n",
      "Epoch  6, CIFAR-10 Batch 5:  Loss:1.2737176418304443 Validation accuracy: 0.5149999260902405\n",
      "Epoch  7, CIFAR-10 Batch 1:  Loss:1.4580299854278564 Validation accuracy: 0.5179999470710754\n",
      "Epoch  7, CIFAR-10 Batch 2:  Loss:1.264714002609253 Validation accuracy: 0.5315999388694763\n",
      "Epoch  7, CIFAR-10 Batch 3:  Loss:0.9963284730911255 Validation accuracy: 0.5389999151229858\n",
      "Epoch  7, CIFAR-10 Batch 4:  Loss:1.1101675033569336 Validation accuracy: 0.5449999570846558\n",
      "Epoch  7, CIFAR-10 Batch 5:  Loss:1.1786524057388306 Validation accuracy: 0.5435999035835266\n",
      "Epoch  8, CIFAR-10 Batch 1:  Loss:1.375727891921997 Validation accuracy: 0.5389999151229858\n",
      "Epoch  8, CIFAR-10 Batch 2:  Loss:1.138826608657837 Validation accuracy: 0.5449999570846558\n",
      "Epoch  8, CIFAR-10 Batch 3:  Loss:0.8571107983589172 Validation accuracy: 0.5527999401092529\n",
      "Epoch  8, CIFAR-10 Batch 4:  Loss:1.0094531774520874 Validation accuracy: 0.5541999340057373\n",
      "Epoch  8, CIFAR-10 Batch 5:  Loss:1.1032801866531372 Validation accuracy: 0.5687999725341797\n",
      "Epoch  9, CIFAR-10 Batch 1:  Loss:1.2080421447753906 Validation accuracy: 0.5555999279022217\n",
      "Epoch  9, CIFAR-10 Batch 2:  Loss:1.1259913444519043 Validation accuracy: 0.5707999467849731\n",
      "Epoch  9, CIFAR-10 Batch 3:  Loss:0.8131124377250671 Validation accuracy: 0.5725999474525452\n",
      "Epoch  9, CIFAR-10 Batch 4:  Loss:0.945710301399231 Validation accuracy: 0.5689998865127563\n",
      "Epoch  9, CIFAR-10 Batch 5:  Loss:1.0514801740646362 Validation accuracy: 0.5705999732017517\n",
      "Epoch 10, CIFAR-10 Batch 1:  Loss:1.172366976737976 Validation accuracy: 0.5655999779701233\n",
      "Epoch 10, CIFAR-10 Batch 2:  Loss:0.9960891604423523 Validation accuracy: 0.5809998512268066\n",
      "Epoch 10, CIFAR-10 Batch 3:  Loss:0.7493186593055725 Validation accuracy: 0.5831999778747559\n",
      "Epoch 10, CIFAR-10 Batch 4:  Loss:0.8402209281921387 Validation accuracy: 0.5867999196052551\n",
      "Epoch 10, CIFAR-10 Batch 5:  Loss:0.9401658773422241 Validation accuracy: 0.5883998870849609\n",
      "Epoch 11, CIFAR-10 Batch 1:  Loss:1.0744905471801758 Validation accuracy: 0.5847998857498169\n",
      "Epoch 11, CIFAR-10 Batch 2:  Loss:0.9617401361465454 Validation accuracy: 0.5853999257087708\n",
      "Epoch 11, CIFAR-10 Batch 3:  Loss:0.7520450949668884 Validation accuracy: 0.5949999094009399\n",
      "Epoch 11, CIFAR-10 Batch 4:  Loss:0.8004093170166016 Validation accuracy: 0.5925999283790588\n",
      "Epoch 11, CIFAR-10 Batch 5:  Loss:0.9023386240005493 Validation accuracy: 0.6085999011993408\n",
      "Epoch 12, CIFAR-10 Batch 1:  Loss:1.0248292684555054 Validation accuracy: 0.5985999703407288\n",
      "Epoch 12, CIFAR-10 Batch 2:  Loss:0.8998374938964844 Validation accuracy: 0.5977998971939087\n",
      "Epoch 12, CIFAR-10 Batch 3:  Loss:0.6473726034164429 Validation accuracy: 0.6037999391555786\n",
      "Epoch 12, CIFAR-10 Batch 4:  Loss:0.7893500328063965 Validation accuracy: 0.5945999622344971\n",
      "Epoch 12, CIFAR-10 Batch 5:  Loss:0.7571719288825989 Validation accuracy: 0.6121999025344849\n",
      "Epoch 13, CIFAR-10 Batch 1:  Loss:1.0043083429336548 Validation accuracy: 0.6029999852180481\n",
      "Epoch 13, CIFAR-10 Batch 2:  Loss:0.8140738010406494 Validation accuracy: 0.6113998293876648\n",
      "Epoch 13, CIFAR-10 Batch 3:  Loss:0.6367555856704712 Validation accuracy: 0.6149999499320984\n",
      "Epoch 13, CIFAR-10 Batch 4:  Loss:0.6405037045478821 Validation accuracy: 0.6157999038696289\n",
      "Epoch 13, CIFAR-10 Batch 5:  Loss:0.7027885913848877 Validation accuracy: 0.6201999187469482\n",
      "Epoch 14, CIFAR-10 Batch 1:  Loss:0.9340207576751709 Validation accuracy: 0.6123998761177063\n",
      "Epoch 14, CIFAR-10 Batch 2:  Loss:0.719748854637146 Validation accuracy: 0.6261998414993286\n",
      "Epoch 14, CIFAR-10 Batch 3:  Loss:0.5926287174224854 Validation accuracy: 0.6221998929977417\n",
      "Epoch 14, CIFAR-10 Batch 4:  Loss:0.6359351277351379 Validation accuracy: 0.6271999478340149\n",
      "Epoch 14, CIFAR-10 Batch 5:  Loss:0.6047481894493103 Validation accuracy: 0.6275998950004578\n",
      "Epoch 15, CIFAR-10 Batch 1:  Loss:0.8345388174057007 Validation accuracy: 0.6233999133110046\n",
      "Epoch 15, CIFAR-10 Batch 2:  Loss:0.6586513519287109 Validation accuracy: 0.6343998908996582\n",
      "Epoch 15, CIFAR-10 Batch 3:  Loss:0.5261567234992981 Validation accuracy: 0.6329998970031738\n",
      "Epoch 15, CIFAR-10 Batch 4:  Loss:0.5995342135429382 Validation accuracy: 0.6307998895645142\n",
      "Epoch 15, CIFAR-10 Batch 5:  Loss:0.5990904569625854 Validation accuracy: 0.6353998780250549\n",
      "Epoch 16, CIFAR-10 Batch 1:  Loss:0.7807850241661072 Validation accuracy: 0.6335998773574829\n",
      "Epoch 16, CIFAR-10 Batch 2:  Loss:0.6383146047592163 Validation accuracy: 0.6425999402999878\n",
      "Epoch 16, CIFAR-10 Batch 3:  Loss:0.4576581120491028 Validation accuracy: 0.6383998990058899\n",
      "Epoch 16, CIFAR-10 Batch 4:  Loss:0.5150967240333557 Validation accuracy: 0.6287999153137207\n",
      "Epoch 16, CIFAR-10 Batch 5:  Loss:0.5562291145324707 Validation accuracy: 0.6401998996734619\n",
      "Epoch 17, CIFAR-10 Batch 1:  Loss:0.6575571298599243 Validation accuracy: 0.6399998664855957\n",
      "Epoch 17, CIFAR-10 Batch 2:  Loss:0.6022579073905945 Validation accuracy: 0.6455999612808228\n",
      "Epoch 17, CIFAR-10 Batch 3:  Loss:0.42328596115112305 Validation accuracy: 0.648399829864502\n",
      "Epoch 17, CIFAR-10 Batch 4:  Loss:0.49426165223121643 Validation accuracy: 0.6423999071121216\n",
      "Epoch 17, CIFAR-10 Batch 5:  Loss:0.49013668298721313 Validation accuracy: 0.6475998759269714\n",
      "Epoch 18, CIFAR-10 Batch 1:  Loss:0.625979483127594 Validation accuracy: 0.6471998691558838\n",
      "Epoch 18, CIFAR-10 Batch 2:  Loss:0.5288082957267761 Validation accuracy: 0.6485998630523682\n",
      "Epoch 18, CIFAR-10 Batch 3:  Loss:0.362930566072464 Validation accuracy: 0.6527999043464661\n",
      "Epoch 18, CIFAR-10 Batch 4:  Loss:0.49285265803337097 Validation accuracy: 0.6339999437332153\n",
      "Epoch 18, CIFAR-10 Batch 5:  Loss:0.4789135754108429 Validation accuracy: 0.6517999172210693\n",
      "Epoch 19, CIFAR-10 Batch 1:  Loss:0.545862078666687 Validation accuracy: 0.6565998792648315\n",
      "Epoch 19, CIFAR-10 Batch 2:  Loss:0.48427659273147583 Validation accuracy: 0.6523998975753784\n",
      "Epoch 19, CIFAR-10 Batch 3:  Loss:0.36607426404953003 Validation accuracy: 0.6543998718261719\n",
      "Epoch 19, CIFAR-10 Batch 4:  Loss:0.41814374923706055 Validation accuracy: 0.6495999097824097\n",
      "Epoch 19, CIFAR-10 Batch 5:  Loss:0.4351346492767334 Validation accuracy: 0.6519998908042908\n",
      "Epoch 20, CIFAR-10 Batch 1:  Loss:0.5116658806800842 Validation accuracy: 0.6567999124526978\n",
      "Epoch 20, CIFAR-10 Batch 2:  Loss:0.49334990978240967 Validation accuracy: 0.6573998928070068\n",
      "Epoch 20, CIFAR-10 Batch 3:  Loss:0.31439754366874695 Validation accuracy: 0.660399854183197\n",
      "Epoch 20, CIFAR-10 Batch 4:  Loss:0.35451507568359375 Validation accuracy: 0.6571998596191406\n",
      "Epoch 20, CIFAR-10 Batch 5:  Loss:0.41362857818603516 Validation accuracy: 0.6565998792648315\n",
      "Epoch 21, CIFAR-10 Batch 1:  Loss:0.47492295503616333 Validation accuracy: 0.6609998941421509\n",
      "Epoch 21, CIFAR-10 Batch 2:  Loss:0.43299126625061035 Validation accuracy: 0.6579998731613159\n",
      "Epoch 21, CIFAR-10 Batch 3:  Loss:0.27752596139907837 Validation accuracy: 0.6653999090194702\n",
      "Epoch 21, CIFAR-10 Batch 4:  Loss:0.37481921911239624 Validation accuracy: 0.6507998704910278\n",
      "Epoch 21, CIFAR-10 Batch 5:  Loss:0.36972349882125854 Validation accuracy: 0.6619998812675476\n",
      "Epoch 22, CIFAR-10 Batch 1:  Loss:0.4695175588130951 Validation accuracy: 0.6541998982429504\n",
      "Epoch 22, CIFAR-10 Batch 2:  Loss:0.4002728760242462 Validation accuracy: 0.6639999151229858\n",
      "Epoch 22, CIFAR-10 Batch 3:  Loss:0.24802657961845398 Validation accuracy: 0.6601998209953308\n",
      "Epoch 22, CIFAR-10 Batch 4:  Loss:0.33259937167167664 Validation accuracy: 0.6639998555183411\n",
      "Epoch 22, CIFAR-10 Batch 5:  Loss:0.3264496922492981 Validation accuracy: 0.6695998907089233\n",
      "Epoch 23, CIFAR-10 Batch 1:  Loss:0.382161021232605 Validation accuracy: 0.6655998229980469\n",
      "Epoch 23, CIFAR-10 Batch 2:  Loss:0.3297966718673706 Validation accuracy: 0.6723998785018921\n",
      "Epoch 23, CIFAR-10 Batch 3:  Loss:0.2075853943824768 Validation accuracy: 0.6619998812675476\n",
      "Epoch 23, CIFAR-10 Batch 4:  Loss:0.32217228412628174 Validation accuracy: 0.6631999015808105\n",
      "Epoch 23, CIFAR-10 Batch 5:  Loss:0.31884706020355225 Validation accuracy: 0.666999876499176\n",
      "Epoch 24, CIFAR-10 Batch 1:  Loss:0.32461175322532654 Validation accuracy: 0.6733998656272888\n",
      "Epoch 24, CIFAR-10 Batch 2:  Loss:0.2991604506969452 Validation accuracy: 0.668799877166748\n",
      "Epoch 24, CIFAR-10 Batch 3:  Loss:0.2236005663871765 Validation accuracy: 0.6641998887062073\n",
      "Epoch 24, CIFAR-10 Batch 4:  Loss:0.2632615268230438 Validation accuracy: 0.6695998311042786\n",
      "Epoch 24, CIFAR-10 Batch 5:  Loss:0.2793854773044586 Validation accuracy: 0.6679998636245728\n",
      "Epoch 25, CIFAR-10 Batch 1:  Loss:0.4023088812828064 Validation accuracy: 0.6697998046875\n",
      "Epoch 25, CIFAR-10 Batch 2:  Loss:0.29821357131004333 Validation accuracy: 0.6723999381065369\n",
      "Epoch 25, CIFAR-10 Batch 3:  Loss:0.1695098727941513 Validation accuracy: 0.6745998859405518\n",
      "Epoch 25, CIFAR-10 Batch 4:  Loss:0.2462048977613449 Validation accuracy: 0.6713998317718506\n",
      "Epoch 25, CIFAR-10 Batch 5:  Loss:0.2723929286003113 Validation accuracy: 0.6725999116897583\n",
      "Epoch 26, CIFAR-10 Batch 1:  Loss:0.25954413414001465 Validation accuracy: 0.6767998933792114\n",
      "Epoch 26, CIFAR-10 Batch 2:  Loss:0.28464946150779724 Validation accuracy: 0.6761999130249023\n",
      "Epoch 26, CIFAR-10 Batch 3:  Loss:0.17085640132427216 Validation accuracy: 0.6737998723983765\n",
      "Epoch 26, CIFAR-10 Batch 4:  Loss:0.2485620379447937 Validation accuracy: 0.6805998086929321\n",
      "Epoch 26, CIFAR-10 Batch 5:  Loss:0.19926854968070984 Validation accuracy: 0.6701998710632324\n",
      "Epoch 27, CIFAR-10 Batch 1:  Loss:0.24544695019721985 Validation accuracy: 0.6771999001502991\n",
      "Epoch 27, CIFAR-10 Batch 2:  Loss:0.23414131999015808 Validation accuracy: 0.6791998147964478\n",
      "Epoch 27, CIFAR-10 Batch 3:  Loss:0.14612293243408203 Validation accuracy: 0.6789998412132263\n",
      "Epoch 27, CIFAR-10 Batch 4:  Loss:0.17874015867710114 Validation accuracy: 0.6851998567581177\n",
      "Epoch 27, CIFAR-10 Batch 5:  Loss:0.22513601183891296 Validation accuracy: 0.671799898147583\n",
      "Epoch 28, CIFAR-10 Batch 1:  Loss:0.2660892605781555 Validation accuracy: 0.6761999130249023\n",
      "Epoch 28, CIFAR-10 Batch 2:  Loss:0.24181391298770905 Validation accuracy: 0.6679998636245728\n",
      "Epoch 28, CIFAR-10 Batch 3:  Loss:0.12749327719211578 Validation accuracy: 0.6777998805046082\n",
      "Epoch 28, CIFAR-10 Batch 4:  Loss:0.19723093509674072 Validation accuracy: 0.6815998554229736\n",
      "Epoch 28, CIFAR-10 Batch 5:  Loss:0.2118193507194519 Validation accuracy: 0.6697999238967896\n",
      "Epoch 29, CIFAR-10 Batch 1:  Loss:0.20777663588523865 Validation accuracy: 0.6807998418807983\n",
      "Epoch 29, CIFAR-10 Batch 2:  Loss:0.24730072915554047 Validation accuracy: 0.6757998466491699\n",
      "Epoch 29, CIFAR-10 Batch 3:  Loss:0.13321152329444885 Validation accuracy: 0.6749998927116394\n",
      "Epoch 29, CIFAR-10 Batch 4:  Loss:0.18804749846458435 Validation accuracy: 0.6751998662948608\n",
      "Epoch 29, CIFAR-10 Batch 5:  Loss:0.17001670598983765 Validation accuracy: 0.672999918460846\n",
      "Epoch 30, CIFAR-10 Batch 1:  Loss:0.18965354561805725 Validation accuracy: 0.6821998357772827\n",
      "Epoch 30, CIFAR-10 Batch 2:  Loss:0.21294552087783813 Validation accuracy: 0.6707999110221863\n",
      "Epoch 30, CIFAR-10 Batch 3:  Loss:0.13998201489448547 Validation accuracy: 0.6795998215675354\n",
      "Epoch 30, CIFAR-10 Batch 4:  Loss:0.16434210538864136 Validation accuracy: 0.6719998121261597\n",
      "Epoch 30, CIFAR-10 Batch 5:  Loss:0.16741886734962463 Validation accuracy: 0.6753998398780823\n"
     ]
    }
   ],
   "source": [
    "\"\"\"\n",
    "DON'T MODIFY ANYTHING IN THIS CELL\n",
    "\"\"\"\n",
    "save_model_path = './image_classification'\n",
    "\n",
    "print('Training...')\n",
    "with tf.Session() as sess:\n",
    "    # Initializing the variables\n",
    "    sess.run(tf.global_variables_initializer())\n",
    "    \n",
    "    # Training cycle\n",
    "    for epoch in range(epochs):\n",
    "        # Loop over all batches\n",
    "        n_batches = 5\n",
    "        for batch_i in range(1, n_batches + 1):\n",
    "            for batch_features, batch_labels in helper.load_preprocess_training_batch(batch_i, batch_size):\n",
    "                train_neural_network(sess, optimizer, keep_probability, batch_features, batch_labels)\n",
    "            print('Epoch {:>2}, CIFAR-10 Batch {}:  '.format(epoch + 1, batch_i), end='')\n",
    "            print_stats(sess, batch_features, batch_labels, cost, accuracy)\n",
    "            \n",
    "    # Save Model\n",
    "    saver = tf.train.Saver()\n",
    "    save_path = saver.save(sess, save_model_path)"
   ]
  },
  {
   "cell_type": "markdown",
   "metadata": {
    "deletable": true,
    "editable": true
   },
   "source": [
    "# Checkpoint\n",
    "The model has been saved to disk.\n",
    "## Test Model\n",
    "Test your model against the test dataset.  This will be your final accuracy. You should have an accuracy greater than 50%. If you don't, keep tweaking the model architecture and parameters."
   ]
  },
  {
   "cell_type": "code",
   "execution_count": 77,
   "metadata": {
    "collapsed": false,
    "deletable": true,
    "editable": true
   },
   "outputs": [
    {
     "name": "stdout",
     "output_type": "stream",
     "text": [
      "Testing Accuracy: 0.6717761075949367\n",
      "\n"
     ]
    },
    {
     "data": {
      "image/png": "[encoded data removed]",
      "text/plain": [
       "<matplotlib.figure.Figure at 0x7f5a23beb4e0>"
      ]
     },
     "metadata": {
      "image/png": {
       "height": 319,
       "width": 355
      }
     },
     "output_type": "display_data"
    }
   ],
   "source": [
    "\"\"\"\n",
    "DON'T MODIFY ANYTHING IN THIS CELL\n",
    "\"\"\"\n",
    "%matplotlib inline\n",
    "%config InlineBackend.figure_format = 'retina'\n",
    "\n",
    "import tensorflow as tf\n",
    "import pickle\n",
    "import helper\n",
    "import random\n",
    "\n",
    "# Set batch size if not already set\n",
    "try:\n",
    "    if batch_size:\n",
    "        pass\n",
    "except NameError:\n",
    "    batch_size = 64\n",
    "\n",
    "save_model_path = './image_classification'\n",
    "n_samples = 4\n",
    "top_n_predictions = 3\n",
    "\n",
    "def test_model():\n",
    "    \"\"\"\n",
    "    Test the saved model against the test dataset\n",
    "    \"\"\"\n",
    "\n",
    "    test_features, test_labels = pickle.load(open('preprocess_training.p', mode='rb'))\n",
    "    loaded_graph = tf.Graph()\n",
    "\n",
    "    with tf.Session(graph=loaded_graph) as sess:\n",
    "        # Load model\n",
    "        loader = tf.train.import_meta_graph(save_model_path + '.meta')\n",
    "        loader.restore(sess, save_model_path)\n",
    "\n",
    "        # Get Tensors from loaded model\n",
    "        loaded_x = loaded_graph.get_tensor_by_name('x:0')\n",
    "        loaded_y = loaded_graph.get_tensor_by_name('y:0')\n",
    "        loaded_keep_prob = loaded_graph.get_tensor_by_name('keep_prob:0')\n",
    "        loaded_logits = loaded_graph.get_tensor_by_name('logits:0')\n",
    "        loaded_acc = loaded_graph.get_tensor_by_name('accuracy:0')\n",
    "        \n",
    "        # Get accuracy in batches for memory limitations\n",
    "        test_batch_acc_total = 0\n",
    "        test_batch_count = 0\n",
    "        \n",
    "        for train_feature_batch, train_label_batch in helper.batch_features_labels(test_features, test_labels, batch_size):\n",
    "            test_batch_acc_total += sess.run(\n",
    "                loaded_acc,\n",
    "                feed_dict={loaded_x: train_feature_batch, loaded_y: train_label_batch, loaded_keep_prob: 1.0})\n",
    "            test_batch_count += 1\n",
    "\n",
    "        print('Testing Accuracy: {}\\n'.format(test_batch_acc_total/test_batch_count))\n",
    "\n",
    "        # Print Random Samples\n",
    "        random_test_features, random_test_labels = tuple(zip(*random.sample(list(zip(test_features, test_labels)), n_samples)))\n",
    "        random_test_predictions = sess.run(\n",
    "            tf.nn.top_k(tf.nn.softmax(loaded_logits), top_n_predictions),\n",
    "            feed_dict={loaded_x: random_test_features, loaded_y: random_test_labels, loaded_keep_prob: 1.0})\n",
    "        helper.display_image_predictions(random_test_features, random_test_labels, random_test_predictions)\n",
    "\n",
    "\n",
    "test_model()"
   ]
  },
  {
   "cell_type": "markdown",
   "metadata": {
    "deletable": true,
    "editable": true
   },
   "source": [
    "## Why 50-80% Accuracy?\n",
    "You might be wondering why you can't get an accuracy any higher. First things first, 50% isn't bad for a simple CNN.  Pure guessing would get you 10% accuracy. However, you might notice people are getting scores [well above 80%](http://rodrigob.github.io/are_we_there_yet/build/classification_datasets_results.html#43494641522d3130).  That's because we haven't taught you all there is to know about neural networks. We still need to cover a few more techniques.\n",
    "## Submitting This Project\n",
    "When submitting this project, make sure to run all the cells before saving the notebook.  Save the notebook file as \"dlnd_image_classification.ipynb\" and save it as a HTML file under \"File\" -> \"Download as\".  Include the \"helper.py\" and \"problem_unittests.py\" files in your submission."
   ]
  }
 ],
 "metadata": {
  "kernelspec": {
   "display_name": "Python 3",
   "language": "python",
   "name": "python3"
  },
  "language_info": {
   "codemirror_mode": {
    "name": "ipython",
    "version": 3
   },
   "file_extension": ".py",
   "mimetype": "text/x-python",
   "name": "python",
   "nbconvert_exporter": "python",
   "pygments_lexer": "ipython3",
   "version": "3.5.2"
  },
  "widgets": {
   "state": {},
   "version": "1.1.2"
  }
 },
 "nbformat": 4,
 "nbformat_minor": 0
}
